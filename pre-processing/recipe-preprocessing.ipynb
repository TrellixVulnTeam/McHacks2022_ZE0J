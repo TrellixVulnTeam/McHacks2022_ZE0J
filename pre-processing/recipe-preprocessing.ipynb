{
 "cells": [
  {
   "cell_type": "code",
   "execution_count": 1,
   "id": "31efe5bd",
   "metadata": {
    "_cell_guid": "b1076dfc-b9ad-4769-8c92-a6c4dae69d19",
    "_uuid": "8f2839f25d086af736a60e9eeb907d3b93b6e0e5",
    "execution": {
     "iopub.execute_input": "2022-01-23T04:07:06.603060Z",
     "iopub.status.busy": "2022-01-23T04:07:06.601991Z",
     "iopub.status.idle": "2022-01-23T04:07:06.621614Z",
     "shell.execute_reply": "2022-01-23T04:07:06.621018Z",
     "shell.execute_reply.started": "2022-01-22T19:55:45.245913Z"
    },
    "papermill": {
     "duration": 0.040074,
     "end_time": "2022-01-23T04:07:06.621780",
     "exception": false,
     "start_time": "2022-01-23T04:07:06.581706",
     "status": "completed"
    },
    "tags": []
   },
   "outputs": [
    {
     "name": "stdout",
     "output_type": "stream",
     "text": [
      "/kaggle/input/foodcom-recipes-and-reviews/recipes.parquet\n",
      "/kaggle/input/foodcom-recipes-and-reviews/reviews.parquet\n",
      "/kaggle/input/foodcom-recipes-and-reviews/reviews.csv\n",
      "/kaggle/input/foodcom-recipes-and-reviews/recipes.csv\n"
     ]
    }
   ],
   "source": [
    "# This Python 3 environment comes with many helpful analytics libraries installed\n",
    "# It is defined by the kaggle/python Docker image: https://github.com/kaggle/docker-python\n",
    "# For example, here's several helpful packages to load\n",
    "\n",
    "import numpy as np # linear algebra\n",
    "import pandas as pd # data processing, CSV file I/O (e.g. pd.read_csv)\n",
    "\n",
    "# Input data files are available in the read-only \"../input/\" directory\n",
    "# For example, running this (by clicking run or pressing Shift+Enter) will list all files under the input directory\n",
    "\n",
    "import os\n",
    "for dirname, _, filenames in os.walk('/kaggle/input'):\n",
    "    for filename in filenames:\n",
    "        print(os.path.join(dirname, filename))\n",
    "\n",
    "# You can write up to 20GB to the current directory (/kaggle/working/) that gets preserved as output when you create a version using \"Save & Run All\" \n",
    "# You can also write temporary files to /kaggle/temp/, but they won't be saved outside of the current session"
   ]
  },
  {
   "cell_type": "markdown",
   "id": "784dbe8b",
   "metadata": {
    "papermill": {
     "duration": 0.014886,
     "end_time": "2022-01-23T04:07:06.653595",
     "exception": false,
     "start_time": "2022-01-23T04:07:06.638709",
     "status": "completed"
    },
    "tags": []
   },
   "source": [
    "# Load the datasets"
   ]
  },
  {
   "cell_type": "code",
   "execution_count": 2,
   "id": "b82b5241",
   "metadata": {
    "execution": {
     "iopub.execute_input": "2022-01-23T04:07:06.688286Z",
     "iopub.status.busy": "2022-01-23T04:07:06.687544Z",
     "iopub.status.idle": "2022-01-23T04:07:06.689666Z",
     "shell.execute_reply": "2022-01-23T04:07:06.690086Z",
     "shell.execute_reply.started": "2022-01-22T19:55:45.288222Z"
    },
    "papermill": {
     "duration": 0.021433,
     "end_time": "2022-01-23T04:07:06.690240",
     "exception": false,
     "start_time": "2022-01-23T04:07:06.668807",
     "status": "completed"
    },
    "tags": []
   },
   "outputs": [],
   "source": [
    "import pandas as pd"
   ]
  },
  {
   "cell_type": "code",
   "execution_count": 3,
   "id": "3be98d79",
   "metadata": {
    "execution": {
     "iopub.execute_input": "2022-01-23T04:07:06.723762Z",
     "iopub.status.busy": "2022-01-23T04:07:06.723203Z",
     "iopub.status.idle": "2022-01-23T04:07:39.422209Z",
     "shell.execute_reply": "2022-01-23T04:07:39.421563Z",
     "shell.execute_reply.started": "2022-01-22T19:55:45.294936Z"
    },
    "papermill": {
     "duration": 32.717391,
     "end_time": "2022-01-23T04:07:39.422389",
     "exception": false,
     "start_time": "2022-01-23T04:07:06.704998",
     "status": "completed"
    },
    "tags": []
   },
   "outputs": [],
   "source": [
    "recipes_df = pd.read_csv('../input/foodcom-recipes-and-reviews/recipes.csv')\n",
    "reviews_df = pd.read_csv('../input/foodcom-recipes-and-reviews/reviews.csv')"
   ]
  },
  {
   "cell_type": "code",
   "execution_count": 4,
   "id": "303bc231",
   "metadata": {
    "execution": {
     "iopub.execute_input": "2022-01-23T04:07:39.466485Z",
     "iopub.status.busy": "2022-01-23T04:07:39.465743Z",
     "iopub.status.idle": "2022-01-23T04:07:39.489497Z",
     "shell.execute_reply": "2022-01-23T04:07:39.488969Z",
     "shell.execute_reply.started": "2022-01-22T19:56:18.520354Z"
    },
    "papermill": {
     "duration": 0.051789,
     "end_time": "2022-01-23T04:07:39.489623",
     "exception": false,
     "start_time": "2022-01-23T04:07:39.437834",
     "status": "completed"
    },
    "tags": []
   },
   "outputs": [
    {
     "data": {
      "text/html": [
       "<div>\n",
       "<style scoped>\n",
       "    .dataframe tbody tr th:only-of-type {\n",
       "        vertical-align: middle;\n",
       "    }\n",
       "\n",
       "    .dataframe tbody tr th {\n",
       "        vertical-align: top;\n",
       "    }\n",
       "\n",
       "    .dataframe thead th {\n",
       "        text-align: right;\n",
       "    }\n",
       "</style>\n",
       "<table border=\"1\" class=\"dataframe\">\n",
       "  <thead>\n",
       "    <tr style=\"text-align: right;\">\n",
       "      <th></th>\n",
       "      <th>RecipeId</th>\n",
       "      <th>Name</th>\n",
       "      <th>AuthorId</th>\n",
       "      <th>AuthorName</th>\n",
       "      <th>CookTime</th>\n",
       "      <th>PrepTime</th>\n",
       "      <th>TotalTime</th>\n",
       "      <th>DatePublished</th>\n",
       "      <th>Description</th>\n",
       "      <th>Images</th>\n",
       "      <th>...</th>\n",
       "      <th>SaturatedFatContent</th>\n",
       "      <th>CholesterolContent</th>\n",
       "      <th>SodiumContent</th>\n",
       "      <th>CarbohydrateContent</th>\n",
       "      <th>FiberContent</th>\n",
       "      <th>SugarContent</th>\n",
       "      <th>ProteinContent</th>\n",
       "      <th>RecipeServings</th>\n",
       "      <th>RecipeYield</th>\n",
       "      <th>RecipeInstructions</th>\n",
       "    </tr>\n",
       "  </thead>\n",
       "  <tbody>\n",
       "    <tr>\n",
       "      <th>0</th>\n",
       "      <td>38</td>\n",
       "      <td>Low-Fat Berry Blue Frozen Dessert</td>\n",
       "      <td>1533</td>\n",
       "      <td>Dancer</td>\n",
       "      <td>PT24H</td>\n",
       "      <td>PT45M</td>\n",
       "      <td>PT24H45M</td>\n",
       "      <td>1999-08-09T21:46:00Z</td>\n",
       "      <td>Make and share this Low-Fat Berry Blue Frozen ...</td>\n",
       "      <td>c(\"https://img.sndimg.com/food/image/upload/w_...</td>\n",
       "      <td>...</td>\n",
       "      <td>1.3</td>\n",
       "      <td>8.0</td>\n",
       "      <td>29.8</td>\n",
       "      <td>37.1</td>\n",
       "      <td>3.6</td>\n",
       "      <td>30.2</td>\n",
       "      <td>3.2</td>\n",
       "      <td>4.0</td>\n",
       "      <td>NaN</td>\n",
       "      <td>c(\"Toss 2 cups berries with sugar.\", \"Let stan...</td>\n",
       "    </tr>\n",
       "    <tr>\n",
       "      <th>1</th>\n",
       "      <td>39</td>\n",
       "      <td>Biryani</td>\n",
       "      <td>1567</td>\n",
       "      <td>elly9812</td>\n",
       "      <td>PT25M</td>\n",
       "      <td>PT4H</td>\n",
       "      <td>PT4H25M</td>\n",
       "      <td>1999-08-29T13:12:00Z</td>\n",
       "      <td>Make and share this Biryani recipe from Food.com.</td>\n",
       "      <td>c(\"https://img.sndimg.com/food/image/upload/w_...</td>\n",
       "      <td>...</td>\n",
       "      <td>16.6</td>\n",
       "      <td>372.8</td>\n",
       "      <td>368.4</td>\n",
       "      <td>84.4</td>\n",
       "      <td>9.0</td>\n",
       "      <td>20.4</td>\n",
       "      <td>63.4</td>\n",
       "      <td>6.0</td>\n",
       "      <td>NaN</td>\n",
       "      <td>c(\"Soak saffron in warm milk for 5 minutes and...</td>\n",
       "    </tr>\n",
       "    <tr>\n",
       "      <th>2</th>\n",
       "      <td>40</td>\n",
       "      <td>Best Lemonade</td>\n",
       "      <td>1566</td>\n",
       "      <td>Stephen Little</td>\n",
       "      <td>PT5M</td>\n",
       "      <td>PT30M</td>\n",
       "      <td>PT35M</td>\n",
       "      <td>1999-09-05T19:52:00Z</td>\n",
       "      <td>This is from one of my  first Good House Keepi...</td>\n",
       "      <td>c(\"https://img.sndimg.com/food/image/upload/w_...</td>\n",
       "      <td>...</td>\n",
       "      <td>0.0</td>\n",
       "      <td>0.0</td>\n",
       "      <td>1.8</td>\n",
       "      <td>81.5</td>\n",
       "      <td>0.4</td>\n",
       "      <td>77.2</td>\n",
       "      <td>0.3</td>\n",
       "      <td>4.0</td>\n",
       "      <td>NaN</td>\n",
       "      <td>c(\"Into a 1 quart Jar with tight fitting lid, ...</td>\n",
       "    </tr>\n",
       "    <tr>\n",
       "      <th>3</th>\n",
       "      <td>41</td>\n",
       "      <td>Carina's Tofu-Vegetable Kebabs</td>\n",
       "      <td>1586</td>\n",
       "      <td>Cyclopz</td>\n",
       "      <td>PT20M</td>\n",
       "      <td>PT24H</td>\n",
       "      <td>PT24H20M</td>\n",
       "      <td>1999-09-03T14:54:00Z</td>\n",
       "      <td>This dish is best prepared a day in advance to...</td>\n",
       "      <td>c(\"https://img.sndimg.com/food/image/upload/w_...</td>\n",
       "      <td>...</td>\n",
       "      <td>3.8</td>\n",
       "      <td>0.0</td>\n",
       "      <td>1558.6</td>\n",
       "      <td>64.2</td>\n",
       "      <td>17.3</td>\n",
       "      <td>32.1</td>\n",
       "      <td>29.3</td>\n",
       "      <td>2.0</td>\n",
       "      <td>4 kebabs</td>\n",
       "      <td>c(\"Drain the tofu, carefully squeezing out exc...</td>\n",
       "    </tr>\n",
       "    <tr>\n",
       "      <th>4</th>\n",
       "      <td>42</td>\n",
       "      <td>Cabbage Soup</td>\n",
       "      <td>1538</td>\n",
       "      <td>Duckie067</td>\n",
       "      <td>PT30M</td>\n",
       "      <td>PT20M</td>\n",
       "      <td>PT50M</td>\n",
       "      <td>1999-09-19T06:19:00Z</td>\n",
       "      <td>Make and share this Cabbage Soup recipe from F...</td>\n",
       "      <td>\"https://img.sndimg.com/food/image/upload/w_55...</td>\n",
       "      <td>...</td>\n",
       "      <td>0.1</td>\n",
       "      <td>0.0</td>\n",
       "      <td>959.3</td>\n",
       "      <td>25.1</td>\n",
       "      <td>4.8</td>\n",
       "      <td>17.7</td>\n",
       "      <td>4.3</td>\n",
       "      <td>4.0</td>\n",
       "      <td>NaN</td>\n",
       "      <td>c(\"Mix everything together and bring to a boil...</td>\n",
       "    </tr>\n",
       "  </tbody>\n",
       "</table>\n",
       "<p>5 rows × 28 columns</p>\n",
       "</div>"
      ],
      "text/plain": [
       "   RecipeId                               Name  AuthorId      AuthorName  \\\n",
       "0        38  Low-Fat Berry Blue Frozen Dessert      1533          Dancer   \n",
       "1        39                            Biryani      1567        elly9812   \n",
       "2        40                      Best Lemonade      1566  Stephen Little   \n",
       "3        41     Carina's Tofu-Vegetable Kebabs      1586         Cyclopz   \n",
       "4        42                       Cabbage Soup      1538       Duckie067   \n",
       "\n",
       "  CookTime PrepTime TotalTime         DatePublished  \\\n",
       "0    PT24H    PT45M  PT24H45M  1999-08-09T21:46:00Z   \n",
       "1    PT25M     PT4H   PT4H25M  1999-08-29T13:12:00Z   \n",
       "2     PT5M    PT30M     PT35M  1999-09-05T19:52:00Z   \n",
       "3    PT20M    PT24H  PT24H20M  1999-09-03T14:54:00Z   \n",
       "4    PT30M    PT20M     PT50M  1999-09-19T06:19:00Z   \n",
       "\n",
       "                                         Description  \\\n",
       "0  Make and share this Low-Fat Berry Blue Frozen ...   \n",
       "1  Make and share this Biryani recipe from Food.com.   \n",
       "2  This is from one of my  first Good House Keepi...   \n",
       "3  This dish is best prepared a day in advance to...   \n",
       "4  Make and share this Cabbage Soup recipe from F...   \n",
       "\n",
       "                                              Images  ... SaturatedFatContent  \\\n",
       "0  c(\"https://img.sndimg.com/food/image/upload/w_...  ...                 1.3   \n",
       "1  c(\"https://img.sndimg.com/food/image/upload/w_...  ...                16.6   \n",
       "2  c(\"https://img.sndimg.com/food/image/upload/w_...  ...                 0.0   \n",
       "3  c(\"https://img.sndimg.com/food/image/upload/w_...  ...                 3.8   \n",
       "4  \"https://img.sndimg.com/food/image/upload/w_55...  ...                 0.1   \n",
       "\n",
       "  CholesterolContent SodiumContent CarbohydrateContent  FiberContent  \\\n",
       "0                8.0          29.8                37.1           3.6   \n",
       "1              372.8         368.4                84.4           9.0   \n",
       "2                0.0           1.8                81.5           0.4   \n",
       "3                0.0        1558.6                64.2          17.3   \n",
       "4                0.0         959.3                25.1           4.8   \n",
       "\n",
       "   SugarContent  ProteinContent  RecipeServings  RecipeYield  \\\n",
       "0          30.2             3.2             4.0          NaN   \n",
       "1          20.4            63.4             6.0          NaN   \n",
       "2          77.2             0.3             4.0          NaN   \n",
       "3          32.1            29.3             2.0     4 kebabs   \n",
       "4          17.7             4.3             4.0          NaN   \n",
       "\n",
       "                                  RecipeInstructions  \n",
       "0  c(\"Toss 2 cups berries with sugar.\", \"Let stan...  \n",
       "1  c(\"Soak saffron in warm milk for 5 minutes and...  \n",
       "2  c(\"Into a 1 quart Jar with tight fitting lid, ...  \n",
       "3  c(\"Drain the tofu, carefully squeezing out exc...  \n",
       "4  c(\"Mix everything together and bring to a boil...  \n",
       "\n",
       "[5 rows x 28 columns]"
      ]
     },
     "execution_count": 4,
     "metadata": {},
     "output_type": "execute_result"
    }
   ],
   "source": [
    "recipes_df.head()"
   ]
  },
  {
   "cell_type": "code",
   "execution_count": 5,
   "id": "1ef289a7",
   "metadata": {
    "execution": {
     "iopub.execute_input": "2022-01-23T04:07:39.527329Z",
     "iopub.status.busy": "2022-01-23T04:07:39.526778Z",
     "iopub.status.idle": "2022-01-23T04:07:39.530050Z",
     "shell.execute_reply": "2022-01-23T04:07:39.530483Z",
     "shell.execute_reply.started": "2022-01-22T19:56:18.561634Z"
    },
    "papermill": {
     "duration": 0.025184,
     "end_time": "2022-01-23T04:07:39.530630",
     "exception": false,
     "start_time": "2022-01-23T04:07:39.505446",
     "status": "completed"
    },
    "tags": []
   },
   "outputs": [
    {
     "data": {
      "text/plain": [
       "RecipeId                                                                     38\n",
       "Name                                          Low-Fat Berry Blue Frozen Dessert\n",
       "AuthorId                                                                   1533\n",
       "AuthorName                                                               Dancer\n",
       "CookTime                                                                  PT24H\n",
       "PrepTime                                                                  PT45M\n",
       "TotalTime                                                              PT24H45M\n",
       "DatePublished                                              1999-08-09T21:46:00Z\n",
       "Description                   Make and share this Low-Fat Berry Blue Frozen ...\n",
       "Images                        c(\"https://img.sndimg.com/food/image/upload/w_...\n",
       "RecipeCategory                                                  Frozen Desserts\n",
       "Keywords                      c(\"Dessert\", \"Low Protein\", \"Low Cholesterol\",...\n",
       "RecipeIngredientQuantities                              c(\"4\", \"1/4\", \"1\", \"1\")\n",
       "RecipeIngredientParts         c(\"blueberries\", \"granulated sugar\", \"vanilla ...\n",
       "AggregatedRating                                                            4.5\n",
       "ReviewCount                                                                 4.0\n",
       "Calories                                                                  170.9\n",
       "FatContent                                                                  2.5\n",
       "SaturatedFatContent                                                         1.3\n",
       "CholesterolContent                                                          8.0\n",
       "SodiumContent                                                              29.8\n",
       "CarbohydrateContent                                                        37.1\n",
       "FiberContent                                                                3.6\n",
       "SugarContent                                                               30.2\n",
       "ProteinContent                                                              3.2\n",
       "RecipeServings                                                              4.0\n",
       "RecipeYield                                                                 NaN\n",
       "RecipeInstructions            c(\"Toss 2 cups berries with sugar.\", \"Let stan...\n",
       "Name: 0, dtype: object"
      ]
     },
     "execution_count": 5,
     "metadata": {},
     "output_type": "execute_result"
    }
   ],
   "source": [
    "recipes_df.iloc[0]"
   ]
  },
  {
   "cell_type": "code",
   "execution_count": 6,
   "id": "c9d8c723",
   "metadata": {
    "execution": {
     "iopub.execute_input": "2022-01-23T04:07:39.564907Z",
     "iopub.status.busy": "2022-01-23T04:07:39.564384Z",
     "iopub.status.idle": "2022-01-23T04:07:39.574848Z",
     "shell.execute_reply": "2022-01-23T04:07:39.574297Z",
     "shell.execute_reply.started": "2022-01-22T19:56:18.570747Z"
    },
    "papermill": {
     "duration": 0.028446,
     "end_time": "2022-01-23T04:07:39.574963",
     "exception": false,
     "start_time": "2022-01-23T04:07:39.546517",
     "status": "completed"
    },
    "tags": []
   },
   "outputs": [
    {
     "data": {
      "text/html": [
       "<div>\n",
       "<style scoped>\n",
       "    .dataframe tbody tr th:only-of-type {\n",
       "        vertical-align: middle;\n",
       "    }\n",
       "\n",
       "    .dataframe tbody tr th {\n",
       "        vertical-align: top;\n",
       "    }\n",
       "\n",
       "    .dataframe thead th {\n",
       "        text-align: right;\n",
       "    }\n",
       "</style>\n",
       "<table border=\"1\" class=\"dataframe\">\n",
       "  <thead>\n",
       "    <tr style=\"text-align: right;\">\n",
       "      <th></th>\n",
       "      <th>ReviewId</th>\n",
       "      <th>RecipeId</th>\n",
       "      <th>AuthorId</th>\n",
       "      <th>AuthorName</th>\n",
       "      <th>Rating</th>\n",
       "      <th>Review</th>\n",
       "      <th>DateSubmitted</th>\n",
       "      <th>DateModified</th>\n",
       "    </tr>\n",
       "  </thead>\n",
       "  <tbody>\n",
       "    <tr>\n",
       "      <th>0</th>\n",
       "      <td>2</td>\n",
       "      <td>992</td>\n",
       "      <td>2008</td>\n",
       "      <td>gayg msft</td>\n",
       "      <td>5</td>\n",
       "      <td>better than any you can get at a restaurant!</td>\n",
       "      <td>2000-01-25T21:44:00Z</td>\n",
       "      <td>2000-01-25T21:44:00Z</td>\n",
       "    </tr>\n",
       "    <tr>\n",
       "      <th>1</th>\n",
       "      <td>7</td>\n",
       "      <td>4384</td>\n",
       "      <td>1634</td>\n",
       "      <td>Bill Hilbrich</td>\n",
       "      <td>4</td>\n",
       "      <td>I cut back on the mayo, and made up the differ...</td>\n",
       "      <td>2001-10-17T16:49:59Z</td>\n",
       "      <td>2001-10-17T16:49:59Z</td>\n",
       "    </tr>\n",
       "    <tr>\n",
       "      <th>2</th>\n",
       "      <td>9</td>\n",
       "      <td>4523</td>\n",
       "      <td>2046</td>\n",
       "      <td>Gay Gilmore ckpt</td>\n",
       "      <td>2</td>\n",
       "      <td>i think i did something wrong because i could ...</td>\n",
       "      <td>2000-02-25T09:00:00Z</td>\n",
       "      <td>2000-02-25T09:00:00Z</td>\n",
       "    </tr>\n",
       "    <tr>\n",
       "      <th>3</th>\n",
       "      <td>13</td>\n",
       "      <td>7435</td>\n",
       "      <td>1773</td>\n",
       "      <td>Malarkey Test</td>\n",
       "      <td>5</td>\n",
       "      <td>easily the best i have ever had.  juicy flavor...</td>\n",
       "      <td>2000-03-13T21:15:00Z</td>\n",
       "      <td>2000-03-13T21:15:00Z</td>\n",
       "    </tr>\n",
       "    <tr>\n",
       "      <th>4</th>\n",
       "      <td>14</td>\n",
       "      <td>44</td>\n",
       "      <td>2085</td>\n",
       "      <td>Tony Small</td>\n",
       "      <td>5</td>\n",
       "      <td>An excellent dish.</td>\n",
       "      <td>2000-03-28T12:51:00Z</td>\n",
       "      <td>2000-03-28T12:51:00Z</td>\n",
       "    </tr>\n",
       "  </tbody>\n",
       "</table>\n",
       "</div>"
      ],
      "text/plain": [
       "   ReviewId  RecipeId  AuthorId        AuthorName  Rating  \\\n",
       "0         2       992      2008         gayg msft       5   \n",
       "1         7      4384      1634     Bill Hilbrich       4   \n",
       "2         9      4523      2046  Gay Gilmore ckpt       2   \n",
       "3        13      7435      1773     Malarkey Test       5   \n",
       "4        14        44      2085        Tony Small       5   \n",
       "\n",
       "                                              Review         DateSubmitted  \\\n",
       "0       better than any you can get at a restaurant!  2000-01-25T21:44:00Z   \n",
       "1  I cut back on the mayo, and made up the differ...  2001-10-17T16:49:59Z   \n",
       "2  i think i did something wrong because i could ...  2000-02-25T09:00:00Z   \n",
       "3  easily the best i have ever had.  juicy flavor...  2000-03-13T21:15:00Z   \n",
       "4                                 An excellent dish.  2000-03-28T12:51:00Z   \n",
       "\n",
       "           DateModified  \n",
       "0  2000-01-25T21:44:00Z  \n",
       "1  2001-10-17T16:49:59Z  \n",
       "2  2000-02-25T09:00:00Z  \n",
       "3  2000-03-13T21:15:00Z  \n",
       "4  2000-03-28T12:51:00Z  "
      ]
     },
     "execution_count": 6,
     "metadata": {},
     "output_type": "execute_result"
    }
   ],
   "source": [
    "reviews_df.head()"
   ]
  },
  {
   "cell_type": "code",
   "execution_count": 7,
   "id": "0e66b408",
   "metadata": {
    "execution": {
     "iopub.execute_input": "2022-01-23T04:07:39.613215Z",
     "iopub.status.busy": "2022-01-23T04:07:39.612683Z",
     "iopub.status.idle": "2022-01-23T04:07:39.614808Z",
     "shell.execute_reply": "2022-01-23T04:07:39.615183Z",
     "shell.execute_reply.started": "2022-01-22T19:56:18.589165Z"
    },
    "papermill": {
     "duration": 0.023926,
     "end_time": "2022-01-23T04:07:39.615338",
     "exception": false,
     "start_time": "2022-01-23T04:07:39.591412",
     "status": "completed"
    },
    "tags": []
   },
   "outputs": [
    {
     "data": {
      "text/plain": [
       "ReviewId                                                    2\n",
       "RecipeId                                                  992\n",
       "AuthorId                                                 2008\n",
       "AuthorName                                          gayg msft\n",
       "Rating                                                      5\n",
       "Review           better than any you can get at a restaurant!\n",
       "DateSubmitted                            2000-01-25T21:44:00Z\n",
       "DateModified                             2000-01-25T21:44:00Z\n",
       "Name: 0, dtype: object"
      ]
     },
     "execution_count": 7,
     "metadata": {},
     "output_type": "execute_result"
    }
   ],
   "source": [
    "reviews_df.iloc[0]"
   ]
  },
  {
   "cell_type": "markdown",
   "id": "54c95b60",
   "metadata": {
    "papermill": {
     "duration": 0.017855,
     "end_time": "2022-01-23T04:07:39.649499",
     "exception": false,
     "start_time": "2022-01-23T04:07:39.631644",
     "status": "completed"
    },
    "tags": []
   },
   "source": [
    "# Pre-processing"
   ]
  },
  {
   "cell_type": "markdown",
   "id": "c9d8a3ae",
   "metadata": {
    "papermill": {
     "duration": 0.016503,
     "end_time": "2022-01-23T04:07:39.682483",
     "exception": false,
     "start_time": "2022-01-23T04:07:39.665980",
     "status": "completed"
    },
    "tags": []
   },
   "source": [
    "## Drop columns, reduce rows, and join reviews"
   ]
  },
  {
   "cell_type": "code",
   "execution_count": 8,
   "id": "f7b61bf5",
   "metadata": {
    "execution": {
     "iopub.execute_input": "2022-01-23T04:07:39.718406Z",
     "iopub.status.busy": "2022-01-23T04:07:39.717851Z",
     "iopub.status.idle": "2022-01-23T04:07:39.721028Z",
     "shell.execute_reply": "2022-01-23T04:07:39.721460Z",
     "shell.execute_reply.started": "2022-01-22T19:56:18.598188Z"
    },
    "papermill": {
     "duration": 0.022965,
     "end_time": "2022-01-23T04:07:39.721607",
     "exception": false,
     "start_time": "2022-01-23T04:07:39.698642",
     "status": "completed"
    },
    "tags": []
   },
   "outputs": [],
   "source": [
    "recipe_cols = ['RecipeId', 'Name', 'CookTime', 'PrepTime', 'TotalTime', 'Description', 'Images',\\\n",
    "              'RecipeCategory', 'Keywords', 'RecipeIngredientQuantities', 'RecipeIngredientParts', \\\n",
    "              'AggregatedRating', 'Calories', 'RecipeServings', 'RecipeYield', 'RecipeInstructions']\n",
    "review_cols = ['ReviewId', 'RecipeId', 'Rating', 'Review']"
   ]
  },
  {
   "cell_type": "code",
   "execution_count": 9,
   "id": "bee748a0",
   "metadata": {
    "execution": {
     "iopub.execute_input": "2022-01-23T04:07:39.756671Z",
     "iopub.status.busy": "2022-01-23T04:07:39.756097Z",
     "iopub.status.idle": "2022-01-23T04:07:41.728713Z",
     "shell.execute_reply": "2022-01-23T04:07:41.728031Z",
     "shell.execute_reply.started": "2022-01-22T19:56:18.608147Z"
    },
    "papermill": {
     "duration": 1.990934,
     "end_time": "2022-01-23T04:07:41.728847",
     "exception": false,
     "start_time": "2022-01-23T04:07:39.737913",
     "status": "completed"
    },
    "tags": []
   },
   "outputs": [],
   "source": [
    "# limit recipe entries\n",
    "rp_df = recipes_df[recipe_cols]\n",
    "rv_df = reviews_df[review_cols]\n",
    "# extract rows with reviews\n",
    "rp_df = pd.DataFrame.merge(rp_df, rv_df.RecipeId, on='RecipeId').drop_duplicates('RecipeId')"
   ]
  },
  {
   "cell_type": "markdown",
   "id": "1fc11f45",
   "metadata": {
    "papermill": {
     "duration": 0.016544,
     "end_time": "2022-01-23T04:07:41.762514",
     "exception": false,
     "start_time": "2022-01-23T04:07:41.745970",
     "status": "completed"
    },
    "tags": []
   },
   "source": [
    "## Delete rows with null values"
   ]
  },
  {
   "cell_type": "code",
   "execution_count": 10,
   "id": "169178df",
   "metadata": {
    "execution": {
     "iopub.execute_input": "2022-01-23T04:07:41.801834Z",
     "iopub.status.busy": "2022-01-23T04:07:41.801185Z",
     "iopub.status.idle": "2022-01-23T04:07:42.034191Z",
     "shell.execute_reply": "2022-01-23T04:07:42.034984Z",
     "shell.execute_reply.started": "2022-01-22T19:56:22.614279Z"
    },
    "papermill": {
     "duration": 0.255334,
     "end_time": "2022-01-23T04:07:42.035206",
     "exception": false,
     "start_time": "2022-01-23T04:07:41.779872",
     "status": "completed"
    },
    "tags": []
   },
   "outputs": [
    {
     "name": "stdout",
     "output_type": "stream",
     "text": [
      "<class 'pandas.core.frame.DataFrame'>\n",
      "Int64Index: 271674 entries, 0 to 1401962\n",
      "Data columns (total 16 columns):\n",
      " #   Column                      Non-Null Count   Dtype  \n",
      "---  ------                      --------------   -----  \n",
      " 0   RecipeId                    271674 non-null  int64  \n",
      " 1   Name                        271674 non-null  object \n",
      " 2   CookTime                    228628 non-null  object \n",
      " 3   PrepTime                    271674 non-null  object \n",
      " 4   TotalTime                   271674 non-null  object \n",
      " 5   Description                 271671 non-null  object \n",
      " 6   Images                      271673 non-null  object \n",
      " 7   RecipeCategory              271425 non-null  object \n",
      " 8   Keywords                    265248 non-null  object \n",
      " 9   RecipeIngredientQuantities  271672 non-null  object \n",
      " 10  RecipeIngredientParts       271674 non-null  object \n",
      " 11  AggregatedRating            265982 non-null  float64\n",
      " 12  Calories                    271674 non-null  float64\n",
      " 13  RecipeServings              173683 non-null  float64\n",
      " 14  RecipeYield                 84104 non-null   object \n",
      " 15  RecipeInstructions          271674 non-null  object \n",
      "dtypes: float64(3), int64(1), object(12)\n",
      "memory usage: 35.2+ MB\n"
     ]
    }
   ],
   "source": [
    "rp_df.info()"
   ]
  },
  {
   "cell_type": "code",
   "execution_count": 11,
   "id": "fd3f06ae",
   "metadata": {
    "execution": {
     "iopub.execute_input": "2022-01-23T04:07:42.125605Z",
     "iopub.status.busy": "2022-01-23T04:07:42.124993Z",
     "iopub.status.idle": "2022-01-23T04:07:42.680778Z",
     "shell.execute_reply": "2022-01-23T04:07:42.680206Z",
     "shell.execute_reply.started": "2022-01-22T19:56:23.028319Z"
    },
    "papermill": {
     "duration": 0.627788,
     "end_time": "2022-01-23T04:07:42.680948",
     "exception": false,
     "start_time": "2022-01-23T04:07:42.053160",
     "status": "completed"
    },
    "tags": []
   },
   "outputs": [
    {
     "name": "stdout",
     "output_type": "stream",
     "text": [
      "<class 'pandas.core.frame.DataFrame'>\n",
      "Int64Index: 112715 entries, 0 to 1401961\n",
      "Data columns (total 16 columns):\n",
      " #   Column                      Non-Null Count   Dtype  \n",
      "---  ------                      --------------   -----  \n",
      " 0   RecipeId                    112715 non-null  int64  \n",
      " 1   Name                        112715 non-null  object \n",
      " 2   CookTime                    112715 non-null  object \n",
      " 3   PrepTime                    112715 non-null  object \n",
      " 4   TotalTime                   112715 non-null  object \n",
      " 5   Description                 112715 non-null  object \n",
      " 6   Images                      112715 non-null  object \n",
      " 7   RecipeCategory              112715 non-null  object \n",
      " 8   Keywords                    112715 non-null  object \n",
      " 9   RecipeIngredientQuantities  112715 non-null  object \n",
      " 10  RecipeIngredientParts       112715 non-null  object \n",
      " 11  AggregatedRating            112715 non-null  float64\n",
      " 12  Calories                    112715 non-null  float64\n",
      " 13  RecipeServings              73525 non-null   float64\n",
      " 14  RecipeYield                 34865 non-null   object \n",
      " 15  RecipeInstructions          112715 non-null  object \n",
      "dtypes: float64(3), int64(1), object(12)\n",
      "memory usage: 14.6+ MB\n"
     ]
    }
   ],
   "source": [
    "recipe_col_subset = ['RecipeId', 'Name', 'CookTime', 'PrepTime', 'TotalTime', 'Description', 'Images',\\\n",
    "              'RecipeCategory', 'Keywords', 'RecipeIngredientQuantities', 'RecipeIngredientParts', \\\n",
    "              'AggregatedRating', 'Calories', 'RecipeInstructions']\n",
    "\n",
    "rp_df = rp_df.dropna(subset=recipe_col_subset)\n",
    "rp_df = rp_df[rp_df.Images != 'character(0)']\n",
    "rp_df.info()"
   ]
  },
  {
   "cell_type": "code",
   "execution_count": 12,
   "id": "bcf9c2c3",
   "metadata": {
    "execution": {
     "iopub.execute_input": "2022-01-23T04:07:42.724827Z",
     "iopub.status.busy": "2022-01-23T04:07:42.720498Z",
     "iopub.status.idle": "2022-01-23T04:07:42.936492Z",
     "shell.execute_reply": "2022-01-23T04:07:42.937024Z",
     "shell.execute_reply.started": "2022-01-22T19:56:23.976598Z"
    },
    "papermill": {
     "duration": 0.237845,
     "end_time": "2022-01-23T04:07:42.937218",
     "exception": false,
     "start_time": "2022-01-23T04:07:42.699373",
     "status": "completed"
    },
    "tags": []
   },
   "outputs": [],
   "source": [
    "# reduce rows\n",
    "rp_df = rp_df[:10000]\n",
    "rv_df = pd.DataFrame.merge(rv_df, rp_df.RecipeId, how='inner')"
   ]
  },
  {
   "cell_type": "code",
   "execution_count": 13,
   "id": "f9e9da7b",
   "metadata": {
    "execution": {
     "iopub.execute_input": "2022-01-23T04:07:42.980440Z",
     "iopub.status.busy": "2022-01-23T04:07:42.979817Z",
     "iopub.status.idle": "2022-01-23T04:08:12.130208Z",
     "shell.execute_reply": "2022-01-23T04:08:12.131417Z",
     "shell.execute_reply.started": "2022-01-22T19:56:24.52344Z"
    },
    "papermill": {
     "duration": 29.17551,
     "end_time": "2022-01-23T04:08:12.131700",
     "exception": false,
     "start_time": "2022-01-23T04:07:42.956190",
     "status": "completed"
    },
    "tags": []
   },
   "outputs": [
    {
     "name": "stdout",
     "output_type": "stream",
     "text": [
      "CPU times: user 29.1 s, sys: 66.3 ms, total: 29.2 s\n",
      "Wall time: 29.1 s\n"
     ]
    }
   ],
   "source": [
    "%%time\n",
    "# This take about 35s with 10000 rows\n",
    "# RecipeId as a key, list of dict as a value\n",
    "rc_rv_dict = dict()\n",
    "for name, df in rv_df.groupby('RecipeId'):\n",
    "    # drop unnecessary column, set index and transpose (to create dict)\n",
    "    df = df.drop('RecipeId', axis=1).set_index('ReviewId').T\n",
    "    dict1 = df.to_dict('dict')\n",
    "    rc_rv_dict[name] = dict1"
   ]
  },
  {
   "cell_type": "code",
   "execution_count": 14,
   "id": "4cd2f45b",
   "metadata": {
    "execution": {
     "iopub.execute_input": "2022-01-23T04:08:12.178093Z",
     "iopub.status.busy": "2022-01-23T04:08:12.177257Z",
     "iopub.status.idle": "2022-01-23T04:08:12.179828Z",
     "shell.execute_reply": "2022-01-23T04:08:12.179392Z",
     "shell.execute_reply.started": "2022-01-22T19:56:57.152747Z"
    },
    "papermill": {
     "duration": 0.028361,
     "end_time": "2022-01-23T04:08:12.179948",
     "exception": false,
     "start_time": "2022-01-23T04:08:12.151587",
     "status": "completed"
    },
    "tags": []
   },
   "outputs": [],
   "source": [
    "# add a new column\n",
    "rp_df['reviews_in_dict'] = rp_df.RecipeId.apply(lambda x: rc_rv_dict[x])"
   ]
  },
  {
   "cell_type": "markdown",
   "id": "aecefb7e",
   "metadata": {
    "papermill": {
     "duration": 0.016825,
     "end_time": "2022-01-23T04:08:12.214104",
     "exception": false,
     "start_time": "2022-01-23T04:08:12.197279",
     "status": "completed"
    },
    "tags": []
   },
   "source": [
    "# Clean the following columns:\n",
    "\n",
    "Images, Keywords, RecipeIngredientQuantities, RecipeIngredientParts, RecipeInstructions"
   ]
  },
  {
   "cell_type": "code",
   "execution_count": 15,
   "id": "9665573c",
   "metadata": {
    "execution": {
     "iopub.execute_input": "2022-01-23T04:08:12.253000Z",
     "iopub.status.busy": "2022-01-23T04:08:12.252457Z",
     "iopub.status.idle": "2022-01-23T04:08:12.254358Z",
     "shell.execute_reply": "2022-01-23T04:08:12.254788Z",
     "shell.execute_reply.started": "2022-01-22T19:56:57.167067Z"
    },
    "papermill": {
     "duration": 0.023591,
     "end_time": "2022-01-23T04:08:12.254921",
     "exception": false,
     "start_time": "2022-01-23T04:08:12.231330",
     "status": "completed"
    },
    "tags": []
   },
   "outputs": [],
   "source": [
    "import re\n",
    "\n",
    "def map_str_to_list(string):\n",
    "    #pattern = re.compile(r'\\\"(.+)\\\"')\n",
    "    pattern = re.compile(r'\\\"([^\"]+)\\\"')\n",
    "    return pattern.findall(string)\n",
    "\n",
    "def map_for_series(series: pd.Series):\n",
    "    return series.apply(lambda i: map_str_to_list(i))"
   ]
  },
  {
   "cell_type": "code",
   "execution_count": 16,
   "id": "ddbdc5df",
   "metadata": {
    "execution": {
     "iopub.execute_input": "2022-01-23T04:08:12.291822Z",
     "iopub.status.busy": "2022-01-23T04:08:12.291273Z",
     "iopub.status.idle": "2022-01-23T04:08:12.603522Z",
     "shell.execute_reply": "2022-01-23T04:08:12.603990Z",
     "shell.execute_reply.started": "2022-01-22T19:56:57.176945Z"
    },
    "papermill": {
     "duration": 0.332006,
     "end_time": "2022-01-23T04:08:12.604180",
     "exception": false,
     "start_time": "2022-01-23T04:08:12.272174",
     "status": "completed"
    },
    "tags": []
   },
   "outputs": [],
   "source": [
    "modify_col_list = ['Images', 'Keywords', 'RecipeIngredientQuantities', 'RecipeIngredientParts', 'RecipeInstructions']\n",
    "rp_df = rp_df.apply(lambda x: map_for_series(x) if x.name in modify_col_list else x)"
   ]
  },
  {
   "cell_type": "code",
   "execution_count": 17,
   "id": "e7d144ec",
   "metadata": {
    "execution": {
     "iopub.execute_input": "2022-01-23T04:08:12.646293Z",
     "iopub.status.busy": "2022-01-23T04:08:12.645575Z",
     "iopub.status.idle": "2022-01-23T04:08:12.648184Z",
     "shell.execute_reply": "2022-01-23T04:08:12.648669Z",
     "shell.execute_reply.started": "2022-01-22T19:56:57.576021Z"
    },
    "papermill": {
     "duration": 0.026514,
     "end_time": "2022-01-23T04:08:12.648819",
     "exception": false,
     "start_time": "2022-01-23T04:08:12.622305",
     "status": "completed"
    },
    "tags": []
   },
   "outputs": [
    {
     "data": {
      "text/plain": [
       "{46368: {'Rating': 5,\n",
       "  'Review': 'This is a very good soup.  We served ours warm with soup crackers.  Low in calories & fat. Thanks Tracy & Jeff.'},\n",
       " 118530: {'Rating': 0,\n",
       "  'Review': 'hi im going to make this soup tonight doing so right now will let you know im sure i will love it thank yoiu  \\r\\nsassyface'},\n",
       " 165407: {'Rating': 3,\n",
       "  'Review': 'nice base but needed some seasoning help.  Worked great on variations of seasoning such as Italian or Soul.'},\n",
       " 177583: {'Rating': 2, 'Review': 'Too bland'},\n",
       " 185238: {'Rating': 0,\n",
       "  'Review': 'i would like the 7 day recipe for the cabbage soup please send it to me\\r\\n '},\n",
       " 186959: {'Rating': 4,\n",
       "  'Review': 'We liked this soup. We added about three cups of water and chicken boillion cubes to stretch it farther and give it a little more flavor. '},\n",
       " 804233: {'Rating': 5,\n",
       "  'Review': 'VERY GOOD! in both texture and taste! awesome recipe!'},\n",
       " 853747: {'Rating': 0,\n",
       "  'Review': \"For years, I've made a soup just like this with V8 instead of tomato juice.  For variety, add small, cooked meatballs or cubed pieces of leftover meatloaf.  This is a great soup!\"},\n",
       " 863050: {'Rating': 5,\n",
       "  'Review': 'I am a big fan of cooked cabbage and anything tomato, so this recipe was just what I needed.  I did not have tomato juice, so I used puree and beef broth.  It was wonderful.  I served it over brown rice to give it some bulk.  I also threw in a little bit of pastrami, which I chopped finely. It turned out great!'}}"
      ]
     },
     "execution_count": 17,
     "metadata": {},
     "output_type": "execute_result"
    }
   ],
   "source": [
    "rp_df.reviews_in_dict.iat[4]"
   ]
  },
  {
   "cell_type": "code",
   "execution_count": 18,
   "id": "33020f1f",
   "metadata": {
    "execution": {
     "iopub.execute_input": "2022-01-23T04:08:12.686949Z",
     "iopub.status.busy": "2022-01-23T04:08:12.686414Z",
     "iopub.status.idle": "2022-01-23T04:08:13.312855Z",
     "shell.execute_reply": "2022-01-23T04:08:13.313372Z",
     "shell.execute_reply.started": "2022-01-22T19:57:10.376862Z"
    },
    "papermill": {
     "duration": 0.64677,
     "end_time": "2022-01-23T04:08:13.313545",
     "exception": false,
     "start_time": "2022-01-23T04:08:12.666775",
     "status": "completed"
    },
    "tags": []
   },
   "outputs": [],
   "source": [
    "rp_df.reset_index().to_json('recipe_10000.json')"
   ]
  },
  {
   "cell_type": "markdown",
   "id": "b85e39f8",
   "metadata": {
    "papermill": {
     "duration": 0.017474,
     "end_time": "2022-01-23T04:08:13.349074",
     "exception": false,
     "start_time": "2022-01-23T04:08:13.331600",
     "status": "completed"
    },
    "tags": []
   },
   "source": [
    "# Give reccomendations (testing exact match method)"
   ]
  },
  {
   "cell_type": "code",
   "execution_count": 19,
   "id": "c86538c2",
   "metadata": {
    "execution": {
     "iopub.execute_input": "2022-01-23T04:08:13.386659Z",
     "iopub.status.busy": "2022-01-23T04:08:13.386074Z",
     "iopub.status.idle": "2022-01-23T04:08:13.390822Z",
     "shell.execute_reply": "2022-01-23T04:08:13.391281Z",
     "shell.execute_reply.started": "2022-01-22T16:42:48.060815Z"
    },
    "papermill": {
     "duration": 0.024859,
     "end_time": "2022-01-23T04:08:13.391426",
     "exception": false,
     "start_time": "2022-01-23T04:08:13.366567",
     "status": "completed"
    },
    "tags": []
   },
   "outputs": [],
   "source": [
    "def score_recipes(user_input, df, best_num):\n",
    "    '''\n",
    "    user_input: list of strings\n",
    "    df: our list of recipes\n",
    "    best_num: number of best matching result to return\n",
    "    '''\n",
    "    df = df.copy()\n",
    "    \n",
    "    def score(ingredient_list):\n",
    "        score = 0\n",
    "        for w in user_input:\n",
    "            if w in ingredient_list:\n",
    "                score += 1\n",
    "        return score\n",
    "    \n",
    "    df['score'] = df['RecipeIngredientParts'].apply(lambda x: score(x))\n",
    "    df = df.sort_values(by='score', ascending=False).iloc[:best_num]\n",
    "    return df"
   ]
  },
  {
   "cell_type": "code",
   "execution_count": 20,
   "id": "702b2af0",
   "metadata": {
    "execution": {
     "iopub.execute_input": "2022-01-23T04:08:13.430600Z",
     "iopub.status.busy": "2022-01-23T04:08:13.429962Z",
     "iopub.status.idle": "2022-01-23T04:08:13.483960Z",
     "shell.execute_reply": "2022-01-23T04:08:13.483543Z",
     "shell.execute_reply.started": "2022-01-22T16:42:48.076926Z"
    },
    "papermill": {
     "duration": 0.075232,
     "end_time": "2022-01-23T04:08:13.484107",
     "exception": false,
     "start_time": "2022-01-23T04:08:13.408875",
     "status": "completed"
    },
    "tags": []
   },
   "outputs": [
    {
     "data": {
      "text/html": [
       "<div>\n",
       "<style scoped>\n",
       "    .dataframe tbody tr th:only-of-type {\n",
       "        vertical-align: middle;\n",
       "    }\n",
       "\n",
       "    .dataframe tbody tr th {\n",
       "        vertical-align: top;\n",
       "    }\n",
       "\n",
       "    .dataframe thead th {\n",
       "        text-align: right;\n",
       "    }\n",
       "</style>\n",
       "<table border=\"1\" class=\"dataframe\">\n",
       "  <thead>\n",
       "    <tr style=\"text-align: right;\">\n",
       "      <th></th>\n",
       "      <th>RecipeId</th>\n",
       "      <th>Name</th>\n",
       "      <th>CookTime</th>\n",
       "      <th>PrepTime</th>\n",
       "      <th>TotalTime</th>\n",
       "      <th>Description</th>\n",
       "      <th>Images</th>\n",
       "      <th>RecipeCategory</th>\n",
       "      <th>Keywords</th>\n",
       "      <th>RecipeIngredientQuantities</th>\n",
       "      <th>RecipeIngredientParts</th>\n",
       "      <th>AggregatedRating</th>\n",
       "      <th>Calories</th>\n",
       "      <th>RecipeServings</th>\n",
       "      <th>RecipeYield</th>\n",
       "      <th>RecipeInstructions</th>\n",
       "      <th>reviews_in_dict</th>\n",
       "      <th>score</th>\n",
       "    </tr>\n",
       "  </thead>\n",
       "  <tbody>\n",
       "    <tr>\n",
       "      <th>332329</th>\n",
       "      <td>44271</td>\n",
       "      <td>Salmon Chowder</td>\n",
       "      <td>PT30M</td>\n",
       "      <td>PT15M</td>\n",
       "      <td>PT45M</td>\n",
       "      <td>Make and share this Salmon Chowder recipe from...</td>\n",
       "      <td>[https://img.sndimg.com/food/image/upload/w_55...</td>\n",
       "      <td>Chowders</td>\n",
       "      <td>[Potato, Vegetable, Winter, &lt; 60 Mins, Stove T...</td>\n",
       "      <td>[3, 3/4, 1/2, 1, 2, 2, 2, 1, 1, 1, 1, 1, 1, 3/4]</td>\n",
       "      <td>[butter, onion, celery, garlic powder, potatoe...</td>\n",
       "      <td>5.0</td>\n",
       "      <td>259.7</td>\n",
       "      <td>8.0</td>\n",
       "      <td>NaN</td>\n",
       "      <td>[Melt butter in a large pot over medium heat.,...</td>\n",
       "      <td>{56653: {'Rating': 5, 'Review': 'I haven't eve...</td>\n",
       "      <td>3</td>\n",
       "    </tr>\n",
       "    <tr>\n",
       "      <th>174174</th>\n",
       "      <td>24810</td>\n",
       "      <td>Cheesy Vegetable Chowder</td>\n",
       "      <td>PT30M</td>\n",
       "      <td>PT15M</td>\n",
       "      <td>PT45M</td>\n",
       "      <td>I've made this recipe so many times and it is ...</td>\n",
       "      <td>[https://img.sndimg.com/food/image/upload/w_55...</td>\n",
       "      <td>Chowders</td>\n",
       "      <td>[Cheese, Vegetable, &lt; 60 Mins, Stove Top]</td>\n",
       "      <td>[1, 5, 3, 1, 1, 3 1/2, 1, 1/4, 1/4, 2, 1, 1, 1...</td>\n",
       "      <td>[onion, celery ribs, carrots, potato, garlic, ...</td>\n",
       "      <td>5.0</td>\n",
       "      <td>327.6</td>\n",
       "      <td>NaN</td>\n",
       "      <td>10 Cups</td>\n",
       "      <td>[BRING first 6 ingredients to a boil in a Dutc...</td>\n",
       "      <td>{41208: {'Rating': 5, 'Review': 'This is very ...</td>\n",
       "      <td>3</td>\n",
       "    </tr>\n",
       "    <tr>\n",
       "      <th>48452</th>\n",
       "      <td>9418</td>\n",
       "      <td>orange and ginger carrots</td>\n",
       "      <td>PT8M</td>\n",
       "      <td>PT10M</td>\n",
       "      <td>PT18M</td>\n",
       "      <td>Make and share this orange and ginger carrots ...</td>\n",
       "      <td>[https://img.sndimg.com/food/image/upload/w_55...</td>\n",
       "      <td>Vegetable</td>\n",
       "      <td>[Low Protein, &lt; 30 Mins, Stove Top, Easy]</td>\n",
       "      <td>[4 -6, 1/2, 1/2, 2, 1/2, 2, 2]</td>\n",
       "      <td>[carrots, ground ginger, water, salt, brown su...</td>\n",
       "      <td>4.5</td>\n",
       "      <td>116.8</td>\n",
       "      <td>NaN</td>\n",
       "      <td>NaN</td>\n",
       "      <td>[Place carrots, ginger, orange juice, water, s...</td>\n",
       "      <td>{3467: {'Rating': 5, 'Review': 'Lovely recipe,...</td>\n",
       "      <td>2</td>\n",
       "    </tr>\n",
       "  </tbody>\n",
       "</table>\n",
       "</div>"
      ],
      "text/plain": [
       "        RecipeId                       Name CookTime PrepTime TotalTime  \\\n",
       "332329     44271             Salmon Chowder    PT30M    PT15M     PT45M   \n",
       "174174     24810   Cheesy Vegetable Chowder    PT30M    PT15M     PT45M   \n",
       "48452       9418  orange and ginger carrots     PT8M    PT10M     PT18M   \n",
       "\n",
       "                                              Description  \\\n",
       "332329  Make and share this Salmon Chowder recipe from...   \n",
       "174174  I've made this recipe so many times and it is ...   \n",
       "48452   Make and share this orange and ginger carrots ...   \n",
       "\n",
       "                                                   Images RecipeCategory  \\\n",
       "332329  [https://img.sndimg.com/food/image/upload/w_55...       Chowders   \n",
       "174174  [https://img.sndimg.com/food/image/upload/w_55...       Chowders   \n",
       "48452   [https://img.sndimg.com/food/image/upload/w_55...      Vegetable   \n",
       "\n",
       "                                                 Keywords  \\\n",
       "332329  [Potato, Vegetable, Winter, < 60 Mins, Stove T...   \n",
       "174174          [Cheese, Vegetable, < 60 Mins, Stove Top]   \n",
       "48452           [Low Protein, < 30 Mins, Stove Top, Easy]   \n",
       "\n",
       "                               RecipeIngredientQuantities  \\\n",
       "332329   [3, 3/4, 1/2, 1, 2, 2, 2, 1, 1, 1, 1, 1, 1, 3/4]   \n",
       "174174  [1, 5, 3, 1, 1, 3 1/2, 1, 1/4, 1/4, 2, 1, 1, 1...   \n",
       "48452                      [4 -6, 1/2, 1/2, 2, 1/2, 2, 2]   \n",
       "\n",
       "                                    RecipeIngredientParts  AggregatedRating  \\\n",
       "332329  [butter, onion, celery, garlic powder, potatoe...               5.0   \n",
       "174174  [onion, celery ribs, carrots, potato, garlic, ...               5.0   \n",
       "48452   [carrots, ground ginger, water, salt, brown su...               4.5   \n",
       "\n",
       "        Calories  RecipeServings RecipeYield  \\\n",
       "332329     259.7             8.0         NaN   \n",
       "174174     327.6             NaN     10 Cups   \n",
       "48452      116.8             NaN         NaN   \n",
       "\n",
       "                                       RecipeInstructions  \\\n",
       "332329  [Melt butter in a large pot over medium heat.,...   \n",
       "174174  [BRING first 6 ingredients to a boil in a Dutc...   \n",
       "48452   [Place carrots, ginger, orange juice, water, s...   \n",
       "\n",
       "                                          reviews_in_dict  score  \n",
       "332329  {56653: {'Rating': 5, 'Review': 'I haven't eve...      3  \n",
       "174174  {41208: {'Rating': 5, 'Review': 'This is very ...      3  \n",
       "48452   {3467: {'Rating': 5, 'Review': 'Lovely recipe,...      2  "
      ]
     },
     "execution_count": 20,
     "metadata": {},
     "output_type": "execute_result"
    }
   ],
   "source": [
    "user_input = ['potato', 'carrots', 'pork', 'chestnuts', 'butter', 'salmon']\n",
    "score_recipes(user_input, rp_df, 3)"
   ]
  },
  {
   "cell_type": "code",
   "execution_count": 21,
   "id": "58acab7c",
   "metadata": {
    "execution": {
     "iopub.execute_input": "2022-01-23T04:08:13.525291Z",
     "iopub.status.busy": "2022-01-23T04:08:13.524323Z",
     "iopub.status.idle": "2022-01-23T04:08:13.584687Z",
     "shell.execute_reply": "2022-01-23T04:08:13.585163Z",
     "shell.execute_reply.started": "2022-01-22T16:42:48.240142Z"
    },
    "papermill": {
     "duration": 0.082823,
     "end_time": "2022-01-23T04:08:13.585357",
     "exception": false,
     "start_time": "2022-01-23T04:08:13.502534",
     "status": "completed"
    },
    "tags": []
   },
   "outputs": [
    {
     "data": {
      "text/html": [
       "<div>\n",
       "<style scoped>\n",
       "    .dataframe tbody tr th:only-of-type {\n",
       "        vertical-align: middle;\n",
       "    }\n",
       "\n",
       "    .dataframe tbody tr th {\n",
       "        vertical-align: top;\n",
       "    }\n",
       "\n",
       "    .dataframe thead th {\n",
       "        text-align: right;\n",
       "    }\n",
       "</style>\n",
       "<table border=\"1\" class=\"dataframe\">\n",
       "  <thead>\n",
       "    <tr style=\"text-align: right;\">\n",
       "      <th></th>\n",
       "      <th>RecipeId</th>\n",
       "      <th>Name</th>\n",
       "      <th>CookTime</th>\n",
       "      <th>PrepTime</th>\n",
       "      <th>TotalTime</th>\n",
       "      <th>Description</th>\n",
       "      <th>Images</th>\n",
       "      <th>RecipeCategory</th>\n",
       "      <th>Keywords</th>\n",
       "      <th>RecipeIngredientQuantities</th>\n",
       "      <th>RecipeIngredientParts</th>\n",
       "      <th>AggregatedRating</th>\n",
       "      <th>Calories</th>\n",
       "      <th>RecipeServings</th>\n",
       "      <th>RecipeYield</th>\n",
       "      <th>RecipeInstructions</th>\n",
       "      <th>reviews_in_dict</th>\n",
       "      <th>score</th>\n",
       "    </tr>\n",
       "  </thead>\n",
       "  <tbody>\n",
       "    <tr>\n",
       "      <th>247802</th>\n",
       "      <td>32386</td>\n",
       "      <td>Brunswick Stew Georgia Style ( Chicken &amp;amp; P...</td>\n",
       "      <td>PT2H</td>\n",
       "      <td>PT20M</td>\n",
       "      <td>PT2H20M</td>\n",
       "      <td>Make and share this Brunswick Stew Georgia Sty...</td>\n",
       "      <td>[https://img.sndimg.com/food/image/upload/w_55...</td>\n",
       "      <td>Stew</td>\n",
       "      <td>[Chicken, Pork, Potato, Poultry, Corn, Vegetab...</td>\n",
       "      <td>[4, 2, 1, 1, 2, 2, 1, 1, 3/4, 1/2, 1/4, 2, 1, ...</td>\n",
       "      <td>[celery ribs, carrots, onion, whole chicken, w...</td>\n",
       "      <td>4.5</td>\n",
       "      <td>1691.0</td>\n",
       "      <td>NaN</td>\n",
       "      <td>3 1/2 Quarts</td>\n",
       "      <td>[Cut celery, carrots, and onion in half; combi...</td>\n",
       "      <td>{133547: {'Rating': 5, 'Review': 'yummmm!!!!!!...</td>\n",
       "      <td>3</td>\n",
       "    </tr>\n",
       "    <tr>\n",
       "      <th>332329</th>\n",
       "      <td>44271</td>\n",
       "      <td>Salmon Chowder</td>\n",
       "      <td>PT30M</td>\n",
       "      <td>PT15M</td>\n",
       "      <td>PT45M</td>\n",
       "      <td>Make and share this Salmon Chowder recipe from...</td>\n",
       "      <td>[https://img.sndimg.com/food/image/upload/w_55...</td>\n",
       "      <td>Chowders</td>\n",
       "      <td>[Potato, Vegetable, Winter, &lt; 60 Mins, Stove T...</td>\n",
       "      <td>[3, 3/4, 1/2, 1, 2, 2, 2, 1, 1, 1, 1, 1, 1, 3/4]</td>\n",
       "      <td>[butter, onion, celery, garlic powder, potatoe...</td>\n",
       "      <td>5.0</td>\n",
       "      <td>259.7</td>\n",
       "      <td>8.0</td>\n",
       "      <td>NaN</td>\n",
       "      <td>[Melt butter in a large pot over medium heat.,...</td>\n",
       "      <td>{56653: {'Rating': 5, 'Review': 'I haven't eve...</td>\n",
       "      <td>2</td>\n",
       "    </tr>\n",
       "    <tr>\n",
       "      <th>92909</th>\n",
       "      <td>14794</td>\n",
       "      <td>All Day Beef Stew</td>\n",
       "      <td>PT8H</td>\n",
       "      <td>PT10M</td>\n",
       "      <td>PT8H10M</td>\n",
       "      <td>Make and share this All Day Beef Stew recipe f...</td>\n",
       "      <td>[https://img.sndimg.com/food/image/upload/w_55...</td>\n",
       "      <td>Stew</td>\n",
       "      <td>[One Dish Meal, Meat, Scottish, European, Week...</td>\n",
       "      <td>[1, 4, 1, 2 -3, 2 -3, 1, 1, 1, 1, 1, 1, 1 1/2]</td>\n",
       "      <td>[beef stew meat, carrots, onion, celery, potat...</td>\n",
       "      <td>4.5</td>\n",
       "      <td>196.6</td>\n",
       "      <td>NaN</td>\n",
       "      <td>NaN</td>\n",
       "      <td>[Stir all ingredients together in slow cooker/...</td>\n",
       "      <td>{6773: {'Rating': 4, 'Review': 'I have been lo...</td>\n",
       "      <td>2</td>\n",
       "    </tr>\n",
       "  </tbody>\n",
       "</table>\n",
       "</div>"
      ],
      "text/plain": [
       "        RecipeId                                               Name CookTime  \\\n",
       "247802     32386  Brunswick Stew Georgia Style ( Chicken &amp; P...     PT2H   \n",
       "332329     44271                                     Salmon Chowder    PT30M   \n",
       "92909      14794                                  All Day Beef Stew     PT8H   \n",
       "\n",
       "       PrepTime TotalTime                                        Description  \\\n",
       "247802    PT20M   PT2H20M  Make and share this Brunswick Stew Georgia Sty...   \n",
       "332329    PT15M     PT45M  Make and share this Salmon Chowder recipe from...   \n",
       "92909     PT10M   PT8H10M  Make and share this All Day Beef Stew recipe f...   \n",
       "\n",
       "                                                   Images RecipeCategory  \\\n",
       "247802  [https://img.sndimg.com/food/image/upload/w_55...           Stew   \n",
       "332329  [https://img.sndimg.com/food/image/upload/w_55...       Chowders   \n",
       "92909   [https://img.sndimg.com/food/image/upload/w_55...           Stew   \n",
       "\n",
       "                                                 Keywords  \\\n",
       "247802  [Chicken, Pork, Potato, Poultry, Corn, Vegetab...   \n",
       "332329  [Potato, Vegetable, Winter, < 60 Mins, Stove T...   \n",
       "92909   [One Dish Meal, Meat, Scottish, European, Week...   \n",
       "\n",
       "                               RecipeIngredientQuantities  \\\n",
       "247802  [4, 2, 1, 1, 2, 2, 1, 1, 3/4, 1/2, 1/4, 2, 1, ...   \n",
       "332329   [3, 3/4, 1/2, 1, 2, 2, 2, 1, 1, 1, 1, 1, 1, 3/4]   \n",
       "92909      [1, 4, 1, 2 -3, 2 -3, 1, 1, 1, 1, 1, 1, 1 1/2]   \n",
       "\n",
       "                                    RecipeIngredientParts  AggregatedRating  \\\n",
       "247802  [celery ribs, carrots, onion, whole chicken, w...               4.5   \n",
       "332329  [butter, onion, celery, garlic powder, potatoe...               5.0   \n",
       "92909   [beef stew meat, carrots, onion, celery, potat...               4.5   \n",
       "\n",
       "        Calories  RecipeServings   RecipeYield  \\\n",
       "247802    1691.0             NaN  3 1/2 Quarts   \n",
       "332329     259.7             8.0           NaN   \n",
       "92909      196.6             NaN           NaN   \n",
       "\n",
       "                                       RecipeInstructions  \\\n",
       "247802  [Cut celery, carrots, and onion in half; combi...   \n",
       "332329  [Melt butter in a large pot over medium heat.,...   \n",
       "92909   [Stir all ingredients together in slow cooker/...   \n",
       "\n",
       "                                          reviews_in_dict  score  \n",
       "247802  {133547: {'Rating': 5, 'Review': 'yummmm!!!!!!...      3  \n",
       "332329  {56653: {'Rating': 5, 'Review': 'I haven't eve...      2  \n",
       "92909   {6773: {'Rating': 4, 'Review': 'I have been lo...      2  "
      ]
     },
     "execution_count": 21,
     "metadata": {},
     "output_type": "execute_result"
    }
   ],
   "source": [
    "user_input = ['potatoes', 'carrots', 'pork']\n",
    "score_recipes(user_input, rp_df, 3)"
   ]
  }
 ],
 "metadata": {
  "kernelspec": {
   "display_name": "Python 3",
   "language": "python",
   "name": "python3"
  },
  "language_info": {
   "codemirror_mode": {
    "name": "ipython",
    "version": 3
   },
   "file_extension": ".py",
   "mimetype": "text/x-python",
   "name": "python",
   "nbconvert_exporter": "python",
   "pygments_lexer": "ipython3",
   "version": "3.7.12"
  },
  "papermill": {
   "default_parameters": {},
   "duration": 76.682013,
   "end_time": "2022-01-23T04:08:14.615883",
   "environment_variables": {},
   "exception": null,
   "input_path": "__notebook__.ipynb",
   "output_path": "__notebook__.ipynb",
   "parameters": {},
   "start_time": "2022-01-23T04:06:57.933870",
   "version": "2.3.3"
  }
 },
 "nbformat": 4,
 "nbformat_minor": 5
}
